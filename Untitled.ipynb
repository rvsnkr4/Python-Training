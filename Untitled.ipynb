{
 "cells": [
  {
   "cell_type": "code",
   "execution_count": null,
   "metadata": {
    "collapsed": false
   },
   "outputs": [],
   "source": [
    "l=['car','bike','bus','train','car','bike','car']\n",
    "for i in l:\n",
    "    print(i,)\n",
    "    "
   ]
  },
  {
   "cell_type": "code",
   "execution_count": null,
   "metadata": {
    "collapsed": false
   },
   "outputs": [],
   "source": [
    "l1=['car','bike','train','bus','train','car','bike','car']\n",
    "l2=[]\n",
    "for i in l1:\n",
    "    if i not in l2:\n",
    "        l2.append(i)\n",
    "        print(i, l1.count(i))"
   ]
  },
  {
   "cell_type": "code",
   "execution_count": 1,
   "metadata": {
    "collapsed": false
   },
   "outputs": [
    {
     "name": "stdout",
     "output_type": "stream",
     "text": [
      "Guess the value10\n",
      "Guess no is less than Actual no\n",
      "Guess the value20\n",
      "Guess no is less than Actual no\n",
      "Guess the value30\n",
      "Guess is right\n"
     ]
    }
   ],
   "source": [
    "import random\n",
    "x=random.randint(0,100)\n",
    "\n",
    "won=False\n",
    "while(not won):\n",
    "    y=input('Guess the value')\n",
    "    y=int(y)\n",
    "    if (y==x):\n",
    "        print('Guess is right')\n",
    "        won=True\n",
    "    elif (y<x):\n",
    "        print('Guess no is less than Actual no')\n",
    "    else:\n",
    "        print('Guess no is greater than Actual no')"
   ]
  },
  {
   "cell_type": "code",
   "execution_count": null,
   "metadata": {
    "collapsed": true
   },
   "outputs": [],
   "source": []
  },
  {
   "cell_type": "code",
   "execution_count": null,
   "metadata": {
    "collapsed": true
   },
   "outputs": [],
   "source": []
  }
 ],
 "metadata": {
  "kernelspec": {
   "display_name": "Python 3",
   "language": "python",
   "name": "python3"
  },
  "language_info": {
   "codemirror_mode": {
    "name": "ipython",
    "version": 3
   },
   "file_extension": ".py",
   "mimetype": "text/x-python",
   "name": "python",
   "nbconvert_exporter": "python",
   "pygments_lexer": "ipython3",
   "version": "3.4.4"
  }
 },
 "nbformat": 4,
 "nbformat_minor": 2
}
