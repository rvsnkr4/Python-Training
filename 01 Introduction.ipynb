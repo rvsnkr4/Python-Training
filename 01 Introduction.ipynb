{
 "cells": [
  {
   "cell_type": "markdown",
   "metadata": {},
   "source": [
    "### 1.1 Introduction"
   ]
  },
  {
   "cell_type": "markdown",
   "metadata": {},
   "source": [
    "* 0.7 released in 1991\n",
    "* `import this`\n",
    "* borrows syntax heavily from C\n",
    "* uses indentation instead of braces\n",
    "* multi purpose language\n",
    "    * games\n",
    "    * web\n",
    "    * buisiness\n",
    "    * scientific research\n",
    "    * data science\n",
    "    * testing & automation"
   ]
  },
  {
   "cell_type": "markdown",
   "metadata": {},
   "source": [
    "### 1.2 Advantages"
   ]
  },
  {
   "cell_type": "markdown",
   "metadata": {
    "collapsed": true
   },
   "source": [
    "* write less\n",
    "* clean syntax\n",
    "* large community\n",
    "* Extensive standard library (regex, maths, threads, os, network, std internet protocols (http, ftp, smtp), email handling, xml processing, gui tools kits.\n",
    "* very large third party libraries (django, flask, panda, numpy..)"
   ]
  },
  {
   "cell_type": "markdown",
   "metadata": {},
   "source": [
    "### 1.3 Architecture of Python"
   ]
  },
  {
   "cell_type": "markdown",
   "metadata": {},
   "source": [
    "![Python Overview](assets/py_overview.gif)"
   ]
  },
  {
   "cell_type": "markdown",
   "metadata": {
    "collapsed": true
   },
   "source": [
    "* Interpreter?\n",
    "* Source code & Byte code?\n",
    "* PVM?\n",
    "* "
   ]
  },
  {
   "cell_type": "code",
   "execution_count": null,
   "metadata": {
    "collapsed": true
   },
   "outputs": [],
   "source": []
  }
 ],
 "metadata": {
  "anaconda-cloud": {},
  "kernelspec": {
   "display_name": "Python [default]",
   "language": "python",
   "name": "python3"
  },
  "language_info": {
   "codemirror_mode": {
    "name": "ipython",
    "version": 3
   },
   "file_extension": ".py",
   "mimetype": "text/x-python",
   "name": "python",
   "nbconvert_exporter": "python",
   "pygments_lexer": "ipython3",
   "version": "3.5.2"
  }
 },
 "nbformat": 4,
 "nbformat_minor": 1
}
