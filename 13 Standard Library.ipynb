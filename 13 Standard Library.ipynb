{
 "cells": [
  {
   "cell_type": "markdown",
   "metadata": {
    "deletable": true,
    "editable": true
   },
   "source": [
    "## 13.1 How to run commands"
   ]
  },
  {
   "cell_type": "code",
   "execution_count": null,
   "metadata": {
    "collapsed": true,
    "deletable": true,
    "editable": true
   },
   "outputs": [],
   "source": [
    "import subprocess"
   ]
  },
  {
   "cell_type": "code",
   "execution_count": null,
   "metadata": {
    "collapsed": true,
    "deletable": true,
    "editable": true
   },
   "outputs": [],
   "source": [
    "out = subprocess.check_output(['ls', '-lrth'])"
   ]
  },
  {
   "cell_type": "code",
   "execution_count": null,
   "metadata": {
    "collapsed": false,
    "deletable": true,
    "editable": true
   },
   "outputs": [],
   "source": [
    "out"
   ]
  },
  {
   "cell_type": "code",
   "execution_count": null,
   "metadata": {
    "collapsed": false,
    "deletable": true,
    "editable": true
   },
   "outputs": [],
   "source": [
    "for line in out.split(b'\\n'):\n",
    "    print(line)"
   ]
  },
  {
   "cell_type": "markdown",
   "metadata": {
    "deletable": true,
    "editable": true
   },
   "source": [
    "## 13.1 CSV Files"
   ]
  },
  {
   "cell_type": "code",
   "execution_count": 20,
   "metadata": {
    "collapsed": false
   },
   "outputs": [
    {
     "name": "stdout",
     "output_type": "stream",
     "text": [
      "['2017-12-01', 'apples', 50, 20.9]\n",
      "['2017-12-02', 'oranges', 70, 60.34]\n",
      "['2017-12-03', 'grapes', 20, 18.5]\n",
      "['2017-12-04', 'bananas', 40, 35.01]\n",
      "['2017-12-04', 'oranges', 40, 35.2]\n",
      "['2017-12-05', 'apples', 30, 28.45]\n",
      "Total: 9300.7\n"
     ]
    }
   ],
   "source": [
    "with open('files/fruits.csv') as f:\n",
    "    total = 0\n",
    "    for line in f:\n",
    "        line = line.strip()\n",
    "        parts = line.split(',')\n",
    "        parts[0] = parts[0].strip('\"')\n",
    "        parts[1] = parts[1].strip('\"')\n",
    "        parts[2] = int(parts[2])\n",
    "        parts[3] = float(parts[3])\n",
    "        print(parts)\n",
    "        total += parts[2] * parts[3]\n",
    "    print(\"Total:\", total)"
   ]
  },
  {
   "cell_type": "code",
   "execution_count": 23,
   "metadata": {
    "collapsed": false
   },
   "outputs": [
    {
     "name": "stdout",
     "output_type": "stream",
     "text": [
      "['2017-12-01', 'apples', 50, 20.9]\n",
      "['2017-12-02', 'oranges', 70, 60.34]\n",
      "['2017-12-03', 'grapes', 20, 18.5]\n",
      "['2017-12-04', 'bananas', 40, 35.01]\n",
      "['2017-12-04', 'oranges', 40, 35.2]\n",
      "['2017-12-05', 'apples', 30, 28.45]\n",
      "Total: 9300.7\n"
     ]
    }
   ],
   "source": [
    "with open('files/fruits.csv') as f:\n",
    "    total = 0\n",
    "    for line in f:\n",
    "        line = line.strip()\n",
    "        parts = line.split(',')\n",
    "        parts[0] = parts[0].strip('\"')\n",
    "        parts[1] = parts[1].strip('\"')\n",
    "        parts[2] = int(parts[2])\n",
    "        parts[3] = float(parts[3])\n",
    "        total += parts[2] * parts[3]\n",
    "        print(parts)\n",
    "    print(\"Total:\", total)"
   ]
  },
  {
   "cell_type": "code",
   "execution_count": 27,
   "metadata": {
    "collapsed": false,
    "deletable": true,
    "editable": true
   },
   "outputs": [
    {
     "name": "stdout",
     "output_type": "stream",
     "text": [
      "['Dec 01, 2017', 'apples', '50', '20.9']\n",
      "['Dec 02, 2017', 'oranges', '70', '60.34']\n",
      "['Dec 03, 2017', 'grapes', '20', '18.50']\n",
      "['Dec 04, 2017', 'bananas', '40', '35.01']\n",
      "['Dec 04, 2017', 'oranges', '40', '35.2']\n",
      "['Dec 05, 2017', 'apples', '30', '28.45']\n",
      "Total: 9300.7\n"
     ]
    }
   ],
   "source": [
    "import csv\n",
    "\n",
    "with open('files/fruits2.csv') as f:\n",
    "    reader = csv.reader(f)\n",
    "    total = 0\n",
    "    for line in reader:\n",
    "        print(line)\n",
    "        line[2] = int(line[2])\n",
    "        line[3] = float(line[3])\n",
    "        total += line[2]* line[3]\n",
    "    print(\"Total:\", total)"
   ]
  },
  {
   "cell_type": "code",
   "execution_count": 31,
   "metadata": {
    "collapsed": false,
    "deletable": true,
    "editable": true
   },
   "outputs": [
    {
     "name": "stdout",
     "output_type": "stream",
     "text": [
      "['Dec 01, 2017', 'apples', '50', '20.9']\n",
      "['Dec 02, 2017', 'oranges', '70', '60.34']\n",
      "['Dec 03, 2017', 'grapes', '20', '18.50']\n",
      "['Dec 04, 2017', 'bananas', '40', '35.01']\n",
      "['Dec 04, 2017', 'oranges', '40', '35.2']\n",
      "['Dec 05, 2017', 'apples', '30', '28.45']\n"
     ]
    }
   ],
   "source": [
    "with open('files/fruits2.csv') as f:\n",
    "    reader = csv.reader(f)\n",
    "    with open('files/fruits3.csv', 'w') as write_obj:\n",
    "        writer = csv.writer(write_obj)\n",
    "        writer.writerow(['date', 'name', 'stack', 'price', 'total'])\n",
    "        \n",
    "        for line in reader:\n",
    "            print(line)\n",
    "            line[2] = int(line[2])\n",
    "            line[3] = float(line[3])\n",
    "            total = line[2]* line[3]\n",
    "            writer.writerow([line[0], line[1], line[2], line[3], total])"
   ]
  },
  {
   "cell_type": "code",
   "execution_count": null,
   "metadata": {
    "collapsed": true,
    "deletable": true,
    "editable": true
   },
   "outputs": [],
   "source": []
  }
 ],
 "metadata": {
  "anaconda-cloud": {},
  "kernelspec": {
   "display_name": "Python 3",
   "language": "python",
   "name": "python3"
  },
  "language_info": {
   "codemirror_mode": {
    "name": "ipython",
    "version": 3
   },
   "file_extension": ".py",
   "mimetype": "text/x-python",
   "name": "python",
   "nbconvert_exporter": "python",
   "pygments_lexer": "ipython3",
   "version": "3.6.0"
  }
 },
 "nbformat": 4,
 "nbformat_minor": 1
}
