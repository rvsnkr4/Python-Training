{
 "cells": [
  {
   "cell_type": "markdown",
   "metadata": {},
   "source": [
    "### 1. Introduction\n",
    "* write less\n",
    "* clean syntax\n",
    "* multi purpose\n",
    "    * games, web application, business problems, scientific research, data science, testing & automation\n",
    "* community\n",
    "* borrows syntax heavily from C.\n",
    "* Indentation instead of braces.\n",
    "* Extensive standard library (regex, maths, threads, os, network, std internet protocols (http, ftp, smtp), email handling, xml processing, gui tools kits.\n",
    "* very large third party libraries (django, flask, panda, numpy..)\n",
    "* Zen of Python"
   ]
  },
  {
   "cell_type": "code",
   "execution_count": null,
   "metadata": {
    "collapsed": true
   },
   "outputs": [],
   "source": []
  }
 ],
 "metadata": {
  "anaconda-cloud": {},
  "kernelspec": {
   "display_name": "Python [default]",
   "language": "python",
   "name": "python3"
  },
  "language_info": {
   "codemirror_mode": {
    "name": "ipython",
    "version": 3
   },
   "file_extension": ".py",
   "mimetype": "text/x-python",
   "name": "python",
   "nbconvert_exporter": "python",
   "pygments_lexer": "ipython3",
   "version": "3.5.2"
  }
 },
 "nbformat": 4,
 "nbformat_minor": 1
}
