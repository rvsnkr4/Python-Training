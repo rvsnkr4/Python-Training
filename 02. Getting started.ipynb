{
 "cells": [
  {
   "cell_type": "markdown",
   "metadata": {},
   "source": [
    "### 2. Installation"
   ]
  },
  {
   "cell_type": "markdown",
   "metadata": {},
   "source": [
    "* 2.7 (Supported until 2020) or 3.6\n",
    "* Download from python.org\n"
   ]
  },
  {
   "cell_type": "markdown",
   "metadata": {},
   "source": [
    "### 2.1 pip\n",
    "1. Download from https://pypi.python.org/pypi/pip\n",
    "2. Unzip\n",
    "3. python setup.py install\n",
    "\n",
    "packages can be installed by\n",
    "\n",
    "`pip install <package name>`"
   ]
  },
  {
   "cell_type": "markdown",
   "metadata": {},
   "source": [
    "### 2.2 IPython\n",
    "\n",
    "* Replacement for python interactive console.\n",
    "* Provides useful features like auto intendation and mulitiline code editing.\n",
    "* Web based UI for python interpreter (Jupyter).\n",
    "\n",
    "to install:\n",
    "\n",
    "`pip install ipython`"
   ]
  },
  {
   "cell_type": "markdown",
   "metadata": {},
   "source": [
    "### 2.3 Architecture\n",
    "\n",
    "![Python Architecture](res/arc.jpg)"
   ]
  },
  {
   "cell_type": "code",
   "execution_count": null,
   "metadata": {
    "collapsed": true
   },
   "outputs": [],
   "source": []
  }
 ],
 "metadata": {
  "anaconda-cloud": {},
  "kernelspec": {
   "display_name": "Python [default]",
   "language": "python",
   "name": "python3"
  },
  "language_info": {
   "codemirror_mode": {
    "name": "ipython",
    "version": 3
   },
   "file_extension": ".py",
   "mimetype": "text/x-python",
   "name": "python",
   "nbconvert_exporter": "python",
   "pygments_lexer": "ipython3",
   "version": "3.5.2"
  }
 },
 "nbformat": 4,
 "nbformat_minor": 1
}
